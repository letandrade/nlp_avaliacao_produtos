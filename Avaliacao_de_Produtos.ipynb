{
 "cells": [
  {
   "cell_type": "markdown",
   "id": "f85210bf-770e-41c2-aa35-995ac648467f",
   "metadata": {},
   "source": [
    "<h1 style=\"text-align: center; border-bottom: 2px solid #ccc; padding-bottom: 10px;\">\n",
    "  Avaliação de Produtos\n",
    "</h1>"
   ]
  },
  {
   "cell_type": "markdown",
   "id": "b5294baa-4ad2-4960-aed5-c95f5db11ac7",
   "metadata": {},
   "source": [
    "### 1.0 Bibliotecas"
   ]
  },
  {
   "cell_type": "code",
   "execution_count": null,
   "id": "517cc5f2-45b1-41cf-bb52-11a44f603abf",
   "metadata": {},
   "outputs": [],
   "source": [
    "#bibliotecas\n",
    "import pandas as pd\n",
    "import seaborn as sns\n",
    "import matplotlib.pyplot as plt\n",
    "\n",
    "#pré-processamento\n",
    "import nltk\n",
    "from nltk.corpus import stopwords\n",
    "from nltk.stem import WordNetLemmatizer\n",
    "import re\n",
    "\n",
    "#modelos\n",
    "from sklearn.model_selection import train_test_split\n",
    "from sklearn.feature_extraction.text import CountVectorizer\n",
    "from sklearn.naive_bayes import MultinomialNB\n",
    "from sklearn.feature_extraction.text import TfidfVectorizer\n",
    "from sklearn.linear_model import LogisticRegression\n",
    "\n",
    "#métricas\n",
    "from sklearn.metrics import confusion_matrix, ConfusionMatrixDisplay, classification_report\n",
    "\n",
    "#nuvem de palavras\n",
    "from wordcloud import WordCloud"
   ]
  },
  {
   "cell_type": "markdown",
   "id": "32d096ff-8d26-4703-a60b-f5e9498ffada",
   "metadata": {},
   "source": [
    "### 2.0 Importando dados"
   ]
  },
  {
   "cell_type": "code",
   "execution_count": null,
   "id": "23c0bc47-8f81-4cf7-be1a-47d5d1769871",
   "metadata": {},
   "outputs": [],
   "source": [
    "df = pd.read_csv(r\"C:\\Users\\leticia.andradeo\\Área de Trabalho\\AM\\avaliacoes_classificadas.csv\", sep=\",\")\n",
    "df"
   ]
  },
  {
   "cell_type": "code",
   "execution_count": null,
   "id": "3a80fb4e-60bd-41f7-a95a-4f29b38f62a9",
   "metadata": {},
   "outputs": [],
   "source": [
    "#verificar qtd\n",
    "df.shape"
   ]
  },
  {
   "cell_type": "code",
   "execution_count": null,
   "id": "41daaba0-d61f-42e7-9145-564efe1f33ed",
   "metadata": {},
   "outputs": [],
   "source": [
    "#qtd de valores únicos\n",
    "df.nunique()"
   ]
  },
  {
   "cell_type": "code",
   "execution_count": null,
   "id": "98dc8774-99c7-46b3-bd3a-6da9f386c63a",
   "metadata": {},
   "outputs": [],
   "source": [
    "#verificar valores vazios\n",
    "df.isnull().sum()"
   ]
  },
  {
   "cell_type": "code",
   "execution_count": null,
   "id": "ca68b716-8848-4ee3-bee0-8e2e140366e9",
   "metadata": {},
   "outputs": [],
   "source": [
    "# 5 primeiras linhas\n",
    "df.head()"
   ]
  },
  {
   "cell_type": "markdown",
   "id": "6b0babf5-b256-482a-a3fc-c311ac11bbd2",
   "metadata": {},
   "source": [
    "### 3.0 Exploração dos dados"
   ]
  },
  {
   "cell_type": "markdown",
   "id": "ae5c2ad3-043d-48ce-bddf-a0d91b625a14",
   "metadata": {},
   "source": [
    "#### 3.1 Tipo de produto"
   ]
  },
  {
   "cell_type": "code",
   "execution_count": null,
   "id": "5f2c019c-44ed-4b2a-8066-6f591b39268a",
   "metadata": {},
   "outputs": [],
   "source": [
    "df['Consulta_de_Busca'].unique()"
   ]
  },
  {
   "cell_type": "code",
   "execution_count": null,
   "id": "560d4bea-d0c8-4a3b-be24-e4c5244a4095",
   "metadata": {},
   "outputs": [],
   "source": [
    "#valores únicos\n",
    "df['Consulta_de_Busca'].nunique()"
   ]
  },
  {
   "cell_type": "markdown",
   "id": "d7f568f6-edfb-4944-93f9-3a9cc3618df4",
   "metadata": {},
   "source": [
    "#### 3.2 Marcas"
   ]
  },
  {
   "cell_type": "code",
   "execution_count": null,
   "id": "e8aa3476-1f3c-4b68-a763-db8a60a0c7d6",
   "metadata": {},
   "outputs": [],
   "source": [
    "#Retire o comentário para vizualizar. São muitas obs. \n",
    "#df['Titulo_do_Produto'].unique()"
   ]
  },
  {
   "cell_type": "code",
   "execution_count": null,
   "id": "8143db3d-77eb-4ded-801f-a05d4cd66072",
   "metadata": {},
   "outputs": [],
   "source": [
    "#valores únicos\n",
    "df['Titulo_do_Produto'].nunique()"
   ]
  },
  {
   "cell_type": "markdown",
   "id": "883d07a4-ece6-46ca-83eb-012a7ca7faf7",
   "metadata": {},
   "source": [
    "#### 3.3 Distribuição da quantidade de palavras nas avaliações"
   ]
  },
  {
   "cell_type": "code",
   "execution_count": null,
   "id": "cddaade7-e9b4-4d88-b80f-825b1cd7ec32",
   "metadata": {},
   "outputs": [],
   "source": [
    "# Tamanho dos textos\n",
    "df['tamanho_texto'] = df['Avaliacao'].apply(lambda x: len(str(x).split()))\n",
    "sns.histplot(df['tamanho_texto'], bins=5)\n",
    "plt.title('Distribuição do tamanho das avaliações')\n",
    "plt.xlabel('Tamanho das avaliações') # Eixo x\n",
    "plt.ylabel('Frequência') # Eixo y"
   ]
  },
  {
   "cell_type": "code",
   "execution_count": null,
   "id": "613c25fc-8cdf-44ba-89a1-9e4eb83ce98f",
   "metadata": {},
   "outputs": [],
   "source": [
    "# Criar o boxplot\n",
    "plt.figure(figsize=(8, 6)) # Ajuste do tamanho da figura\n",
    "plt.boxplot(df['tamanho_texto'], vert=False)  # Se vert=False, o boxplot será horizontal\n",
    "plt.xlabel('Tamanho das avaliações') # Eixo x\n",
    "plt.title('Distribuição do tamanho dos dados')  # Ttítulo do gráfico\n",
    "print(df['tamanho_texto'].describe()) # resumo estatístico\n",
    "plt.show()  # Exibir o gráfico"
   ]
  },
  {
   "cell_type": "markdown",
   "id": "f11c257c-43d2-480a-806a-225c7b28bc1c",
   "metadata": {},
   "source": [
    "### 4.0 Classificador por contagem de palavras"
   ]
  },
  {
   "cell_type": "markdown",
   "id": "dc42ff6b-58fa-4b8a-8009-88c1bb1bb75e",
   "metadata": {},
   "source": [
    "#### 4.1 Pré - processamento"
   ]
  },
  {
   "cell_type": "code",
   "execution_count": null,
   "id": "d831b0f9-3bab-453b-a6e1-16449b0a232a",
   "metadata": {},
   "outputs": [],
   "source": [
    "lemmatizer = WordNetLemmatizer() #lematização\n",
    "stop_words = set(stopwords.words(\"portuguese\")) # stopword"
   ]
  },
  {
   "cell_type": "code",
   "execution_count": null,
   "id": "3abed081-6c4b-44f3-96d1-a3701dee95d4",
   "metadata": {},
   "outputs": [],
   "source": [
    "def preprocessamento(texto):\n",
    "    text = texto.lower() #ransforma todo o texto em letras minúsculas,\n",
    "    text = re.sub(r\"[^\\w\\s]\", \"\", texto) # Usa expressão regular para eliminar qualquer caractere que não seja uma letra, número ou espaço em branco.\n",
    "    tokens = nltk.word_tokenize(texto) # Tokeniza o texto, ou seja, divide o texto em palavras (tokens) usando a função word_tokenize do NLTK.\n",
    "    tokens = [lemmatizer.lemmatize(w) for w in tokens if w not in stop_words] #Remove stopwords #Aplica lematização, ou seja, reduz as palavras à sua forma base (por exemplo, \"correram\" → \"correr\").\n",
    "    return ' '.join(tokens)                                                   "
   ]
  },
  {
   "cell_type": "code",
   "execution_count": null,
   "id": "db3c9d9a-061c-4cd1-9911-b00e77a64dab",
   "metadata": {},
   "outputs": [],
   "source": [
    "#Aplicação da função\n",
    "df['Avaliacao_Tratada'] = df['Avaliacao'].apply(preprocessamento)"
   ]
  },
  {
   "cell_type": "markdown",
   "id": "32a33d89-2835-4fa9-966a-3703cf724c85",
   "metadata": {},
   "source": [
    "#### 4.2 Palavras positivas"
   ]
  },
  {
   "cell_type": "code",
   "execution_count": null,
   "id": "fc9a7ed9-949c-4a8a-aec4-91eead7fd748",
   "metadata": {},
   "outputs": [],
   "source": [
    "# Base de palavras positivas\n",
    "base_positiva = [\n",
    "    \"ótimo\", \"excelente\", \"maravilhoso\", \"perfeito\", \"bom\", \"boa\", \"funciona\", \"rápido\", \"eficiente\", \n",
    "    \"moderno\", \"bonito\", \"design\", \"resistente\", \"durável\", \"bateria\", \"leve\", \"prático\", \n",
    "    \"compacto\", \"potente\", \"intuitivo\", \"fácil\", \"responsivo\", \"incrível\", \"suave\", \"estável\",\n",
    "    \"seguro\", \"custo-benefício\", \"recomendo\", \"top\", \"nítido\", \"vale a pena\", \"memória boa\",\n",
    "    \"ótima câmera\", \"carregamento rápido\", \"som perfeito\", \"imagem clara\", \"fluido\", \"qualidade\",\n",
    "    \"gostei\", \"amei\", \"adorei\", \"recomendo\", \"encantou\", \"atendeu\", \n",
    "    \"funcionou\", \"surpreendeu\", \"satisfeito\", \"agradou\", \"valeu\", \"curti\", \"comprem sem medo\",\"não trava\",\n",
    "\n",
    "    # Adições por categoria de produto\n",
    "    \"tela vibrante\", \"imagem nítida\", \"cores vivas\",  # TV, tablet, smartphone\n",
    "    \"som potente\", \"áudio limpo\", \"graves fortes\",    # caixas de som, fones de ouvido\n",
    "    \"boa conectividade\", \"bluetooth estável\", \"pareamento fácil\",  # fones, smartwatch\n",
    "    \"boa autonomia\", \"carregamento eficiente\",        # drone, smartwatch\n",
    "    \"resposta rápida\", \"baixa latência\",              # mouse, teclado, console\n",
    "    \"corte preciso\", \"lâmina afiada\",                 # barbeador\n",
    "    \"impressão de qualidade\", \"rendimento bom\",       # impressora\n",
    "    \"armazenamento rápido\", \"transferência veloz\",    # SSD\n",
    "    \"esquenta rápido\", \"faz café delicioso\",          # cafeteira\n",
    "    \"muito silencioso\", \"funcionamento silencioso\",   # ventilador, aspirador\n",
    "    \"boa refrigeração\", \"resfria rápido\",             # ar-condicionado\n",
    "    \"costura perfeita\", \"acabamento impecável\",       # roupas, vestido, camisa\n",
    "    \"material de qualidade\", \"tecido confortável\",    # vestuário\n",
    "    \"encaixe perfeito\", \"confortável no pé\",          # tênis, sapato\n",
    "    \"ajuste anatômico\", \"apoio ergonômico\",           # cadeira\n",
    "    \"cheiro agradável\", \"fixação prolongada\",         # perfume\n",
    "    \"joia linda\", \"brilho intenso\",                   # joias\n",
    "    \"tablet rápido\", \"ideal para leitura\",            # tablet\n",
    "]\n",
    "\n",
    "\n",
    "# Criar DataFrame \n",
    "df_positivas = pd.DataFrame(base_positiva)"
   ]
  },
  {
   "cell_type": "markdown",
   "id": "19980ad3-d926-4356-bb66-31f0b2baab4e",
   "metadata": {},
   "source": [
    "#### 4.3 Palavras negativas"
   ]
  },
  {
   "cell_type": "code",
   "execution_count": null,
   "id": "5159ee15-a248-440c-99de-3106ea2e2ce8",
   "metadata": {},
   "outputs": [],
   "source": [
    "# Base de palavras negativas\n",
    "base_negativas = [\n",
    "    \"ruim\", \"péssimo\", \"fraco\", \"horrível\", \"lento\", \"problemático\", \"decepcionante\", \"trava\",\n",
    "    \"não funciona\", \"quebra\", \"frágil\", \"esquenta\", \"bugado\", \"descarrega\", \"erro\", \n",
    "    \"não recomendo\", \"baixo desempenho\", \"câmera ruim\", \"som baixo\", \"insatisfatório\",\n",
    "    \"não gostei\", \"odiei\", \"detestei\", \"não recomendo\", \"decepcionou\", \n",
    "    \"quebrou\", \"esquentou\", \"travou\", \"falhou\", \"pifou\", \"insatisfeito\",\n",
    "\n",
    "    # Adições por categoria\n",
    "    \"imagem borrada\", \"cores apagadas\", \"tela escura\",\"lento\", \"esquenta\",\"frágil\", \"fraco\",      # TV, celular\n",
    "    \"áudio chiado\", \"sem graves\", \"microfone ruim\",         # fones, caixas de som\n",
    "    \"pareamento difícil\", \"bluetooth falha\",                # fones, smartwatch\n",
    "    \"autonomia ruim\", \"carrega devagar\",                    # smartwatch, drones\n",
    "    \"resposta lenta\", \"input delay\",                        # mouse, controle, teclado\n",
    "    \"corte irregular\", \"lâmina cega\",                       # barbeador\n",
    "    \"papel enrosca\", \"mancha impressão\",                    # impressora\n",
    "    \"memória lenta\", \"queda de desempenho\",                 # SSD\n",
    "    \"faz muito barulho\", \"ruído alto\",                      # aspirador, ventilador\n",
    "    \"não refrigera\", \"ar fraco\",                            # ar-condicionado\n",
    "    \"tecido áspero\", \"acabamento ruim\",                     # roupas\n",
    "    \"desconfortável\", \"machuca o pé\",                       # sapato, tênis\n",
    "    \"cadeira desconfortável\", \"apoio frágil\",               # cadeira escritório\n",
    "    \"cheiro fraco\", \"duração ruim\",                         # perfume\n",
    "    \"joia opaca\", \"fecho frágil\",                           # joias\n",
    "    \"tablet travando\", \"não roda apps\",                     # tablet\n",
    "]\n",
    "\n",
    "\n",
    "# Criar DataFrame\n",
    "df_negativas = pd.DataFrame(base_negativas)"
   ]
  },
  {
   "cell_type": "markdown",
   "id": "e10ef1b5-a6cb-4c77-8e52-6c671c52d448",
   "metadata": {},
   "source": [
    "#### 4.4 Aplicação do classificador "
   ]
  },
  {
   "cell_type": "code",
   "execution_count": null,
   "id": "c8e82825-197d-4da6-9c58-d97356634fa2",
   "metadata": {},
   "outputs": [],
   "source": [
    "def classificador_de_sentimento(texto, pos_set, neg_set):\n",
    "    tokens = texto.lower().split()  # coloca tudo em minúsculas e cria os tokens\n",
    "    qtd_positivo = sum(1 for palavra in tokens if palavra in pos_set.values)\n",
    "    qtd_negativo = sum(1 for palavra in tokens if palavra in neg_set.values)\n",
    "\n",
    "    if qtd_positivo > qtd_negativo:\n",
    "        return \"positivo\"\n",
    "    elif qtd_negativo > qtd_positivo:\n",
    "        return \"negativo\"\n",
    "    else:\n",
    "        return \"neutro\""
   ]
  },
  {
   "cell_type": "code",
   "execution_count": null,
   "id": "835e0089-3335-4f0b-b701-788492620675",
   "metadata": {},
   "outputs": [],
   "source": [
    "# Aplicar classificador\n",
    "df['Sentimento'] = df['Avaliacao_Tratada'].apply(lambda x: classificador_de_sentimento(x, df_positivas, df_negativas))"
   ]
  },
  {
   "cell_type": "code",
   "execution_count": null,
   "id": "0bbd80e6-e04d-4389-9c27-c236e82b7a2c",
   "metadata": {},
   "outputs": [],
   "source": [
    "#verificar saída\n",
    "df['Sentimento'].unique()"
   ]
  },
  {
   "cell_type": "code",
   "execution_count": null,
   "id": "66db1a9f-e9f5-41b3-afc2-6da85b59710e",
   "metadata": {},
   "outputs": [],
   "source": [
    "#5 primeiras linhas\n",
    "df.head()"
   ]
  },
  {
   "cell_type": "markdown",
   "id": "d252f10c-096c-47b6-9e40-4269fc6cf648",
   "metadata": {},
   "source": [
    "#### 4.5 Resultado do classificador"
   ]
  },
  {
   "cell_type": "code",
   "execution_count": null,
   "id": "cd7c8b93-ad7e-48d7-b893-5da106851fdb",
   "metadata": {},
   "outputs": [],
   "source": [
    "# Contagem absoluta por sentimento e produto\n",
    "resultado_produto_class = pd.DataFrame(df.groupby('Consulta_de_Busca')['Sentimento'].value_counts().unstack(fill_value=0))\n",
    "\n",
    "# Muda o nome do índice das colunas\n",
    "resultado_produto_class.rename_axis(columns='Índice', inplace=True)\n",
    "\n",
    "# Calcula o total por linha (para percentuais)\n",
    "total_por_linha_pro_class = resultado_produto_class.sum(axis=1)\n",
    "\n",
    "# Cria novas colunas com o percentual\n",
    "resultado_produto_class['negativo_%'] = (resultado_produto_class['negativo'] / total_por_linha_pro_class * 100).round(2)\n",
    "resultado_produto_class['neutro_%']   = (resultado_produto_class['neutro'] / total_por_linha_pro_class * 100).round(2)\n",
    "resultado_produto_class['positivo_%'] = (resultado_produto_class['positivo'] / total_por_linha_pro_class * 100).round(2)\n",
    "\n",
    "# Visualiza\n",
    "resultado_produto_class.reset_index(inplace=True)\n",
    "resultado_produto_class\n",
    "\n",
    "#exportar para excel\n",
    "resultado_produto_class.to_excel('resultado_produto_class.xlsx', index=True)"
   ]
  },
  {
   "cell_type": "code",
   "execution_count": null,
   "id": "758e195f-8bc3-46e8-9585-ca362888ef28",
   "metadata": {},
   "outputs": [],
   "source": [
    "# Contagem absoluta por sentimento e produto e marca\n",
    "resultado_marca_class = pd.DataFrame(df.groupby(['Consulta_de_Busca','Titulo_do_Produto'])['Sentimento'].value_counts().unstack(fill_value=0))\n",
    "\n",
    "# Muda o nome do índice das colunas\n",
    "resultado_marca_class.rename_axis(columns='Índice', inplace=True)\n",
    "\n",
    "# Calcula o total por linha (para percentuais)\n",
    "total_por_linha_marca_class = resultado_marca_class.sum(axis=1)\n",
    "\n",
    "# Cria novas colunas com o percentual\n",
    "resultado_marca_class['negativo_%'] = (resultado_marca_class['negativo'] / total_por_linha_marca_class * 100).round(2)\n",
    "resultado_marca_class['neutro_%']   = (resultado_marca_class['neutro'] / total_por_linha_marca_class * 100).round(2)\n",
    "resultado_marca_class['positivo_%'] = (resultado_marca_class['positivo'] / total_por_linha_marca_class * 100).round(2)\n",
    "\n",
    "# Visualiza\n",
    "resultado_marca_class.reset_index(inplace=True)\n",
    "resultado_marca_class\n",
    "\n",
    "#exportar para excel\n",
    "resultado_marca_class.to_excel('resultado_marca_class.xlsx', index=True)"
   ]
  },
  {
   "cell_type": "markdown",
   "id": "c0fa6571-2d9b-418b-a663-12504e071292",
   "metadata": {},
   "source": [
    "#### 4.6 Nuvem de palavras"
   ]
  },
  {
   "cell_type": "code",
   "execution_count": null,
   "id": "1e032f4c-4a31-4ce0-9433-d4edfad74c3e",
   "metadata": {},
   "outputs": [],
   "source": [
    "# Nuvem de palavras\n",
    "texto_positivo = \" \".join(df[df[\"Sentimento\"] == 'positivo'][\"Avaliacao_Tratada\"])\n",
    "texto_negativo = \" \".join(df[df[\"Sentimento\"] == 'negativo'][\"Avaliacao_Tratada\"])"
   ]
  },
  {
   "cell_type": "code",
   "execution_count": null,
   "id": "8b16d39c-0550-44ba-8f04-650ac1dcb8db",
   "metadata": {},
   "outputs": [],
   "source": [
    "WordCloud().generate(texto_positivo).to_image()"
   ]
  },
  {
   "cell_type": "code",
   "execution_count": null,
   "id": "3796f86e-3cc9-406d-a28b-349219ab38b5",
   "metadata": {},
   "outputs": [],
   "source": [
    "WordCloud().generate(texto_negativo).to_image()"
   ]
  },
  {
   "cell_type": "markdown",
   "id": "0b8361bf-cb6c-4e14-a2f3-2350fadb23c4",
   "metadata": {},
   "source": [
    "### 5.0 Modelo MultinomialNB com a técnica CountVectorizer"
   ]
  },
  {
   "cell_type": "markdown",
   "id": "10c96fa1-d042-46f9-90f0-120374e3989c",
   "metadata": {},
   "source": [
    "#### 5.1 Base de dados com target - classificada"
   ]
  },
  {
   "cell_type": "code",
   "execution_count": null,
   "id": "21baceb9-1593-4c70-a47f-7ad280b4d06d",
   "metadata": {},
   "outputs": [],
   "source": [
    "#vamos utilizar apenas os casos classificados\n",
    "df_com_target = df_com_target = df[df['target'].notna()]"
   ]
  },
  {
   "cell_type": "code",
   "execution_count": null,
   "id": "b5ded058-30e9-46a9-920e-f2a6a6e8f546",
   "metadata": {},
   "outputs": [],
   "source": [
    "#qtd linhas e colunas\n",
    "df_com_target.shape"
   ]
  },
  {
   "cell_type": "code",
   "execution_count": null,
   "id": "edf94161-0a96-41bb-beca-1b1ab438ae6f",
   "metadata": {},
   "outputs": [],
   "source": [
    "df_com_target.head()"
   ]
  },
  {
   "cell_type": "markdown",
   "id": "3333f6d6-fda1-4d7e-8a98-17bef65f86cf",
   "metadata": {},
   "source": [
    "#### 5.2 Vetorização das palavras com CountVectorizer() e treinamento do modelo MultinomialNB"
   ]
  },
  {
   "cell_type": "code",
   "execution_count": null,
   "id": "3adebb08-a3d6-4410-8787-8f41a0de3dc4",
   "metadata": {},
   "outputs": [],
   "source": [
    "#Vetorização BoW\n",
    "vectorizer = CountVectorizer()\n",
    "X = vectorizer.fit_transform(df_com_target['Avaliacao_Tratada'])\n",
    "y = df_com_target['target']\n",
    "\n",
    "#Split treino e teste 70/30\n",
    "X_train, X_test, y_train, y_test = train_test_split(X, y, test_size=0.3)\n",
    "\n",
    "#Treinamento do modelo Naive Bayes\n",
    "modelo_nb = MultinomialNB()\n",
    "modelo_nb.fit(X_train, y_train)"
   ]
  },
  {
   "cell_type": "markdown",
   "id": "f1812e31-f3cc-44a4-b870-ba5706c82cee",
   "metadata": {},
   "source": [
    "#### 5.3 Avaliação do modelo MultinomialNB"
   ]
  },
  {
   "cell_type": "code",
   "execution_count": null,
   "id": "acc1311b-cc12-4aee-99e1-ccc9c0643d3b",
   "metadata": {},
   "outputs": [],
   "source": [
    "y_pred_nb = modelo_nb.predict(X_test)"
   ]
  },
  {
   "cell_type": "code",
   "execution_count": null,
   "id": "83827000-3907-4f1f-ac6d-e6e59665aa77",
   "metadata": {},
   "outputs": [],
   "source": [
    "print(classification_report(y_test, y_pred_nb))\n",
    "mc_nb = confusion_matrix(y_test, y_pred_nb) # matriz de confusão Naive Bayes\n",
    "mc_disp_nb = ConfusionMatrixDisplay(confusion_matrix=mc_nb)\n",
    "mc_disp_nb.plot()"
   ]
  },
  {
   "cell_type": "markdown",
   "id": "3c4cd7e8-4329-46df-ae51-e88c7bf35ed9",
   "metadata": {},
   "source": [
    "#### 5.4 Resultado do modelo MultinomialNB"
   ]
  },
  {
   "cell_type": "code",
   "execution_count": null,
   "id": "20397e66-59c4-4b84-9b16-bad30d1a93cc",
   "metadata": {},
   "outputs": [],
   "source": [
    "# Vetorizando\n",
    "Avaliacao_vet_nb = vectorizer.transform(df['Avaliacao_Tratada']) # vectorizer = CountVectorizer()\n",
    "\n",
    "# Agora você pode prever:\n",
    "df['Previsao_NB'] = modelo_nb.predict(Avaliacao_vet_nb)\n",
    "\n",
    "#transformar\n",
    "df['Previsao_NB'] = df['Previsao_NB'].map({0: 'negativo', 1: 'positivo'})"
   ]
  },
  {
   "cell_type": "code",
   "execution_count": null,
   "id": "1b791a25-1029-4238-a4e9-dc28d6a079bc",
   "metadata": {},
   "outputs": [],
   "source": [
    "df.head()"
   ]
  },
  {
   "cell_type": "code",
   "execution_count": null,
   "id": "3e17ccff-7bde-4b97-9352-f75bac884cb8",
   "metadata": {},
   "outputs": [],
   "source": [
    "# Contagem absoluta por sentimento e produto\n",
    "resultado_produto_nb = pd.DataFrame(df.groupby('Consulta_de_Busca')['Previsao_NB'].value_counts().unstack(fill_value=0))\n",
    "\n",
    "# Muda o nome do índice das colunas\n",
    "resultado_produto_nb.rename_axis(columns='Índice', inplace=True)\n",
    "\n",
    "# Calcula o total por linha (para percentuais)\n",
    "total_por_linha_nb = resultado_produto_nb.sum(axis=1)\n",
    "\n",
    "# Cria novas colunas com o percentual\n",
    "resultado_produto_nb['negativo_%'] = (resultado_produto_nb['negativo'] / total_por_linha_nb * 100).round(2)\n",
    "resultado_produto_nb['positivo_%'] = (resultado_produto_nb['positivo'] / total_por_linha_nb * 100).round(2)\n",
    "\n",
    "# Visualiza\n",
    "resultado_produto_nb.reset_index(inplace=True)\n",
    "resultado_produto_nb\n",
    "\n",
    "#exportar para excel\n",
    "resultado_produto_nb.to_excel('resultado_produto_nb.xlsx', index=True)"
   ]
  },
  {
   "cell_type": "code",
   "execution_count": null,
   "id": "1c45e988-85c9-4172-81e5-2afa7a7e27ed",
   "metadata": {},
   "outputs": [],
   "source": [
    "# Contagem absoluta por sentimento e produto e marca\n",
    "resultado_marca_nb = pd.DataFrame(df.groupby(['Consulta_de_Busca','Titulo_do_Produto'])['Previsao_NB'].value_counts().unstack(fill_value=0))\n",
    "\n",
    "# Muda o nome do índice das colunas\n",
    "resultado_marca_nb.rename_axis(columns='Índice', inplace=True)\n",
    "\n",
    "# Calcula o total por linha (para percentuais)\n",
    "total_por_linha_marca_nb = resultado_marca_nb.sum(axis=1)\n",
    "\n",
    "# Cria novas colunas com o percentual\n",
    "resultado_marca_nb['negativo_%'] = (resultado_marca_nb['negativo'] / total_por_linha_marca_nb * 100).round(2)\n",
    "resultado_marca_nb['positivo_%'] = (resultado_marca_nb['positivo'] / total_por_linha_marca_nb * 100).round(2)\n",
    "\n",
    "# Visualiza\n",
    "resultado_marca_nb.reset_index(inplace=True)\n",
    "resultado_marca_nb\n",
    "\n",
    "#exportar para excel\n",
    "resultado_marca_nb.to_excel('resultado_marca_nb.xlsx', index=True)"
   ]
  },
  {
   "cell_type": "markdown",
   "id": "97289923-2ba1-416f-b766-4bd4c356d721",
   "metadata": {},
   "source": [
    "#### 5.5 Nuvem de palavras"
   ]
  },
  {
   "cell_type": "code",
   "execution_count": null,
   "id": "964bf6c2-292c-4188-8a39-88f59ec09733",
   "metadata": {},
   "outputs": [],
   "source": [
    "# Nuvem de palavras\n",
    "texto_positivo = \" \".join(df[df[\"Previsao_NB\"] == 'positivo'][\"Avaliacao_Tratada\"])"
   ]
  },
  {
   "cell_type": "code",
   "execution_count": null,
   "id": "9403728f-15ab-408d-8e92-d6bbb8d38d9a",
   "metadata": {},
   "outputs": [],
   "source": [
    "# Nuvem de palavras\n",
    "texto_negativo = \" \".join(df[df[\"Previsao_NB\"] == 'negativo'][\"Avaliacao_Tratada\"])"
   ]
  },
  {
   "cell_type": "code",
   "execution_count": null,
   "id": "c0c4f801-4ebf-46af-803a-e15bf3bbfd8a",
   "metadata": {
    "scrolled": true
   },
   "outputs": [],
   "source": [
    "WordCloud().generate(texto_positivo).to_image()"
   ]
  },
  {
   "cell_type": "code",
   "execution_count": null,
   "id": "6eb8e5b8-2d53-4e6f-8633-760fb64226ca",
   "metadata": {},
   "outputs": [],
   "source": [
    "WordCloud().generate(texto_negativo).to_image()"
   ]
  },
  {
   "cell_type": "markdown",
   "id": "5ddfb3eb-177c-44d6-aed9-1bb9601cdd87",
   "metadata": {},
   "source": [
    "### 6.0 Modelo com LogisticRegression com TfidfVectorizer"
   ]
  },
  {
   "cell_type": "markdown",
   "id": "3a35b64c-0f1e-4648-8d3b-67293dd62336",
   "metadata": {},
   "source": [
    "#### 6.1 Vetorizaçao com TfidfVectorizere treinamento do modelo LogisticRegression"
   ]
  },
  {
   "cell_type": "code",
   "execution_count": null,
   "id": "2bfa01dd-0c5c-4f59-9e0c-a3cee3d19c84",
   "metadata": {},
   "outputs": [],
   "source": [
    "tfidf = TfidfVectorizer()\n",
    "X = tfidf.fit_transform(df_com_target[\"Avaliacao_Tratada\"])\n",
    "y = df_com_target[\"target\"]\n",
    "\n",
    "#Split treino e teste 70/30\n",
    "X_train, X_test, y_train, y_test = train_test_split(X, y, test_size=0.3)\n",
    "\n",
    "#Treinando o modelo LogisticRegression()\n",
    "modelo_lr = LogisticRegression()\n",
    "modelo_lr.fit(X_train, y_train)"
   ]
  },
  {
   "cell_type": "markdown",
   "id": "04da5790-5bd2-4971-bf71-d6f033b2150c",
   "metadata": {},
   "source": [
    "#### 6.2 Avaliação do modelo LogisticRegression()"
   ]
  },
  {
   "cell_type": "code",
   "execution_count": null,
   "id": "3ed57533-4e55-4722-a8f1-c0eb1ddcdc1f",
   "metadata": {},
   "outputs": [],
   "source": [
    "y_pred_lr = modelo_lr.predict(X_test)"
   ]
  },
  {
   "cell_type": "code",
   "execution_count": null,
   "id": "d59fc51d-e6d6-47eb-8913-9b6e79e96b62",
   "metadata": {},
   "outputs": [],
   "source": [
    "print(classification_report(y_test, y_pred_lr))\n",
    "mc_lr = confusion_matrix(y_test, y_pred_lr)\n",
    "mc_disp_lr = ConfusionMatrixDisplay(confusion_matrix=mc_lr)\n",
    "mc_disp_lr.plot()"
   ]
  },
  {
   "cell_type": "markdown",
   "id": "939ba229-90fc-4013-8349-df624e3dab3c",
   "metadata": {},
   "source": [
    "#### 6.3 Resultado do modelo LogisticRegression()"
   ]
  },
  {
   "cell_type": "code",
   "execution_count": null,
   "id": "f2c5773c-3a14-437f-82a6-b781d3a570d8",
   "metadata": {},
   "outputs": [],
   "source": [
    "# Vetorizando\n",
    "Avaliacao_vet_lr = tfidf.transform(df['Avaliacao_Tratada'])  # tfidf = TfidfVectorizer()\n",
    "\n",
    "# Agora você pode prever:\n",
    "df['Previsao_LR'] = modelo_lr.predict(Avaliacao_vet_lr)\n",
    "\n",
    "#transformar\n",
    "df['Previsao_LR'] = df['Previsao_LR'].map({0: 'negativo', 1: 'positivo'})"
   ]
  },
  {
   "cell_type": "code",
   "execution_count": null,
   "id": "495c919d-f0b0-4a0d-83c6-02ba81635302",
   "metadata": {},
   "outputs": [],
   "source": [
    "# Contagem absoluta por sentimento e produto\n",
    "resultado_produto_lr = pd.DataFrame(df.groupby('Consulta_de_Busca')['Previsao_LR'].value_counts().unstack(fill_value=0))\n",
    "\n",
    "# Muda o nome do índice das colunas\n",
    "resultado_produto_lr.rename_axis(columns='Índice', inplace=True)\n",
    "\n",
    "# Calcula o total por linha (para percentuais)\n",
    "total_por_linha_lr = resultado_produto_lr.sum(axis=1)\n",
    "\n",
    "# Cria novas colunas com o percentual\n",
    "resultado_produto_lr['negativo_%'] = (resultado_produto_lr['negativo'] / total_por_linha_lr * 100).round(2)\n",
    "resultado_produto_lr['positivo_%'] = (resultado_produto_lr['positivo'] / total_por_linha_lr * 100).round(2)\n",
    "\n",
    "# Visualiza\n",
    "resultado_produto_lr.reset_index(inplace=True)\n",
    "resultado_produto_lr\n",
    "\n",
    "#exportar para excel\n",
    "resultado_produto_lr.to_excel('resultado_produto_lr.xlsx', index=True)"
   ]
  },
  {
   "cell_type": "code",
   "execution_count": null,
   "id": "88a97504-3d8a-4d9a-bc52-86c6f42912e1",
   "metadata": {},
   "outputs": [],
   "source": [
    "# Contagem absoluta por sentimento e produto e marca\n",
    "resultado_marca_lr = pd.DataFrame(df.groupby(['Consulta_de_Busca','Titulo_do_Produto'])['Previsao_LR'].value_counts().unstack(fill_value=0))\n",
    "\n",
    "# Muda o nome do índice das colunas\n",
    "resultado_marca_lr.rename_axis(columns='Índice', inplace=True)\n",
    "\n",
    "# Calcula o total por linha (para percentuais)\n",
    "total_por_linha_marca_lr = resultado_marca_lr.sum(axis=1)\n",
    "\n",
    "# Cria novas colunas com o percentual\n",
    "resultado_marca_lr['negativo_%'] = (resultado_marca_lr['negativo'] / total_por_linha_marca_lr * 100).round(2)\n",
    "resultado_marca_lr['positivo_%'] = (resultado_marca_lr['positivo'] / total_por_linha_marca_lr * 100).round(2)\n",
    "\n",
    "# Visualiza\n",
    "resultado_marca_lr.reset_index(inplace=True)\n",
    "resultado_marca_lr\n",
    "\n",
    "#exportar para excel\n",
    "resultado_marca_lr.to_excel('resultado_marca_lr.xlsx', index=True)"
   ]
  },
  {
   "cell_type": "markdown",
   "id": "43fca747-6014-44a6-a306-e058359d424d",
   "metadata": {},
   "source": [
    "#### 6.4 Nuvem de palavras"
   ]
  },
  {
   "cell_type": "code",
   "execution_count": null,
   "id": "0994f55c-2980-4a8b-83f7-199390869648",
   "metadata": {},
   "outputs": [],
   "source": [
    "texto_positivo = \" \".join(df[df[\"Previsao_LR\"] == 'positivo'][\"Avaliacao_Tratada\"])"
   ]
  },
  {
   "cell_type": "code",
   "execution_count": null,
   "id": "57fb429f-741e-4cda-a7f6-c9a60182b809",
   "metadata": {},
   "outputs": [],
   "source": [
    "texto_negativo = \" \".join(df[df[\"Previsao_LR\"] == 'negativo'][\"Avaliacao_Tratada\"])"
   ]
  },
  {
   "cell_type": "code",
   "execution_count": null,
   "id": "74e8173a-42e2-4b7a-a437-61c4d43453ab",
   "metadata": {},
   "outputs": [],
   "source": [
    "WordCloud().generate(texto_positivo).to_image()"
   ]
  },
  {
   "cell_type": "code",
   "execution_count": null,
   "id": "8e98396e-ab06-469d-a031-4badf18b253c",
   "metadata": {},
   "outputs": [],
   "source": [
    "WordCloud().generate(texto_positivo).to_image()"
   ]
  },
  {
   "cell_type": "markdown",
   "id": "8f61f049-5f22-4e1e-9456-007dc37cf506",
   "metadata": {},
   "source": [
    "### 7.0 Comparação das abordagens"
   ]
  },
  {
   "cell_type": "code",
   "execution_count": null,
   "id": "b4834e9c-00cd-44db-9e6f-21af121df27c",
   "metadata": {},
   "outputs": [],
   "source": [
    "# Vetorização com CountVectorizer()\n",
    "# classificador Naive Bayes\n",
    "print(classification_report(y_test, y_pred_nb))"
   ]
  },
  {
   "cell_type": "code",
   "execution_count": null,
   "id": "438640ad-060d-4e96-8cfa-c4824a580086",
   "metadata": {},
   "outputs": [],
   "source": [
    "#Vetorização com TfidfVectorizer()\n",
    "#Classificador Regressão Logística\n",
    "print(classification_report(y_test, y_pred_lr))"
   ]
  }
 ],
 "metadata": {
  "kernelspec": {
   "display_name": "Python 3 (ipykernel)",
   "language": "python",
   "name": "python3"
  },
  "language_info": {
   "codemirror_mode": {
    "name": "ipython",
    "version": 3
   },
   "file_extension": ".py",
   "mimetype": "text/x-python",
   "name": "python",
   "nbconvert_exporter": "python",
   "pygments_lexer": "ipython3",
   "version": "3.12.7"
  }
 },
 "nbformat": 4,
 "nbformat_minor": 5
}
